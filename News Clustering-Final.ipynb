{
 "cells": [
  {
   "cell_type": "markdown",
   "metadata": {},
   "source": [
    "## Jupyter Notebook : Text Clustering \n",
    "\n",
    "#### - Adirtha Borgohain"
   ]
  },
  {
   "cell_type": "code",
   "execution_count": 52,
   "metadata": {},
   "outputs": [],
   "source": [
    "## Import all necessary libraries and modules\n",
    "import math\n",
    "import string\n",
    "import gensim\n",
    "import numpy as np\n",
    "import numpy.matlib\n",
    "import pandas as pd\n",
    "from tqdm import tqdm\n",
    "import matplotlib.pyplot as plt\n",
    "from gensim.models import Word2Vec\n",
    "from sklearn.decomposition import PCA\n",
    "from sklearn.mixture import GaussianMixture as GMM\n",
    "%matplotlib inline"
   ]
  },
  {
   "cell_type": "code",
   "execution_count": 2,
   "metadata": {},
   "outputs": [],
   "source": [
    "DATA_DIR = './'\n",
    "FILE_NAME = 'text_to_cluster.txt'\n",
    "delimiter = '\\n'"
   ]
  },
  {
   "cell_type": "code",
   "execution_count": 3,
   "metadata": {},
   "outputs": [
    {
     "data": {
      "text/html": [
       "<div>\n",
       "<style scoped>\n",
       "    .dataframe tbody tr th:only-of-type {\n",
       "        vertical-align: middle;\n",
       "    }\n",
       "\n",
       "    .dataframe tbody tr th {\n",
       "        vertical-align: top;\n",
       "    }\n",
       "\n",
       "    .dataframe thead th {\n",
       "        text-align: right;\n",
       "    }\n",
       "</style>\n",
       "<table border=\"1\" class=\"dataframe\">\n",
       "  <thead>\n",
       "    <tr style=\"text-align: right;\">\n",
       "      <th></th>\n",
       "      <th>Headlines</th>\n",
       "    </tr>\n",
       "  </thead>\n",
       "  <tbody>\n",
       "    <tr>\n",
       "      <th>0</th>\n",
       "      <td>Ransomware attack at Mexico's Pemex halts work...</td>\n",
       "    </tr>\n",
       "    <tr>\n",
       "      <th>1</th>\n",
       "      <td>#city | #ransomware | Ransomware Attack At Mex...</td>\n",
       "    </tr>\n",
       "    <tr>\n",
       "      <th>2</th>\n",
       "      <td>Mexico's Pemex Oil Suffers Ransomware Attack, ...</td>\n",
       "    </tr>\n",
       "    <tr>\n",
       "      <th>3</th>\n",
       "      <td>A Mexican oil company was hit by ransomware at...</td>\n",
       "    </tr>\n",
       "    <tr>\n",
       "      <th>4</th>\n",
       "      <td>Pemex Struck by Ransomware Attack</td>\n",
       "    </tr>\n",
       "  </tbody>\n",
       "</table>\n",
       "</div>"
      ],
      "text/plain": [
       "                                           Headlines\n",
       "0  Ransomware attack at Mexico's Pemex halts work...\n",
       "1  #city | #ransomware | Ransomware Attack At Mex...\n",
       "2  Mexico's Pemex Oil Suffers Ransomware Attack, ...\n",
       "3  A Mexican oil company was hit by ransomware at...\n",
       "4                  Pemex Struck by Ransomware Attack"
      ]
     },
     "execution_count": 3,
     "metadata": {},
     "output_type": "execute_result"
    }
   ],
   "source": [
    "## Reading the data file\n",
    "df = pd.read_csv(DATA_DIR + FILE_NAME, delimiter=delimiter, header=None, names=[\"Headlines\"])\n",
    "df.head()"
   ]
  },
  {
   "cell_type": "code",
   "execution_count": 4,
   "metadata": {},
   "outputs": [
    {
     "name": "stdout",
     "output_type": "stream",
     "text": [
      "<class 'pandas.core.frame.DataFrame'>\n",
      "RangeIndex: 684 entries, 0 to 683\n",
      "Data columns (total 1 columns):\n",
      "Headlines    684 non-null object\n",
      "dtypes: object(1)\n",
      "memory usage: 5.5+ KB\n"
     ]
    }
   ],
   "source": [
    "df.info()"
   ]
  },
  {
   "cell_type": "code",
   "execution_count": 5,
   "metadata": {},
   "outputs": [],
   "source": [
    "## Cleaning the text in headlines\n",
    "\n",
    "filter_text = string.punctuation + '“”|”' + string.digits\n",
    "\n",
    "df['Filter_Headlines'] = df['Headlines'].apply(lambda x: x.lower())\n",
    "df['Filter_Headlines'] = df['Filter_Headlines'].apply(lambda x: x.translate(str.maketrans(filter_text,' '*len(filter_text),'')))\n",
    "df_list = df['Filter_Headlines'].values"
   ]
  },
  {
   "cell_type": "markdown",
   "metadata": {},
   "source": [
    "I used word embeddings in order to convert each of the word in our vocabulary to vectors. I downloaded pre-trained glove embeddings from *twitter27b* where each vector is of dimension 100. Once I load the word vectors to my gensim model, I tokenize each of the sentences into their words and find out the respective vectors for each word. In order to vectorize a complete sentence, I took the mean of each element of the word-vectors of a sentence in order to derive a single 100 dimension vector."
   ]
  },
  {
   "cell_type": "code",
   "execution_count": 6,
   "metadata": {},
   "outputs": [],
   "source": [
    "word_list = []\n",
    "for line in df_list:\n",
    "    temp_list = []\n",
    "    for word in line.split():\n",
    "        temp_list.append(word)\n",
    "    word_list.append(temp_list)"
   ]
  },
  {
   "cell_type": "code",
   "execution_count": 7,
   "metadata": {},
   "outputs": [],
   "source": [
    "def sent_vectorizer(sent, model):\n",
    "    sent_vec =[]\n",
    "    numw = 0\n",
    "    for w in sent:\n",
    "        try:\n",
    "            if numw == 0:\n",
    "                sent_vec = model[w]\n",
    "            else:\n",
    "                sent_vec = np.add(sent_vec, model[w])\n",
    "            numw+=1\n",
    "        except:\n",
    "            pass\n",
    "     \n",
    "    return np.asarray(sent_vec) / numw"
   ]
  },
  {
   "cell_type": "code",
   "execution_count": 8,
   "metadata": {},
   "outputs": [],
   "source": [
    "## This cell is only to be executed once when we convert the pre-trained vector file format from \n",
    "## glove to word2vec format inorder to load it to our model\n",
    "\n",
    "### Word-vectors downloaded from: \n",
    "###      https://www.kaggle.com/bertcarremans/glovetwitter27b100dtxt#glove.twitter.27B.100d.txt\n",
    "### I have not included it in the zip file because the size is of 1 gb.\n",
    "    \n",
    "# from gensim.scripts.glove2word2vec import glove2word2vec\n",
    "# glove2word2vec('glove.twitter.27B.100d.txt', 'glove27B.txt')"
   ]
  },
  {
   "cell_type": "code",
   "execution_count": 9,
   "metadata": {},
   "outputs": [],
   "source": [
    "## Loading the model\n",
    "model = gensim.models.KeyedVectors.load_word2vec_format('glove27B.txt', binary=False) "
   ]
  },
  {
   "cell_type": "code",
   "execution_count": 10,
   "metadata": {},
   "outputs": [
    {
     "name": "stderr",
     "output_type": "stream",
     "text": [
      "100%|██████████| 684/684 [00:00<00:00, 39716.81it/s]\n"
     ]
    }
   ],
   "source": [
    "X = []\n",
    "for sentence in tqdm(word_list):\n",
    "    X.append(sent_vectorizer(sentence, model))\n",
    "X = np.array(X)"
   ]
  },
  {
   "cell_type": "code",
   "execution_count": 11,
   "metadata": {},
   "outputs": [
    {
     "data": {
      "text/plain": [
       "(684, 100)"
      ]
     },
     "execution_count": 11,
     "metadata": {},
     "output_type": "execute_result"
    }
   ],
   "source": [
    "X.shape"
   ]
  },
  {
   "cell_type": "code",
   "execution_count": 12,
   "metadata": {},
   "outputs": [
    {
     "data": {
      "text/plain": [
       "<matplotlib.collections.PathCollection at 0x7f626c6989e8>"
      ]
     },
     "execution_count": 12,
     "metadata": {},
     "output_type": "execute_result"
    },
    {
     "data": {
      "image/png": "[encoded data removed]",
      "text/plain": [
       "<Figure size 432x288 with 1 Axes>"
      ]
     },
     "metadata": {
      "needs_background": "light"
     },
     "output_type": "display_data"
    }
   ],
   "source": [
    "## We take a look at the distribution of the data after reducing the vectors to 2-dimensions through PCA\n",
    "sklearn_pca = PCA(n_components = 2)\n",
    "Y_PCA = sklearn_pca.fit_transform(X)\n",
    "plt.scatter(Y_PCA[:, 0], Y_PCA[:, 1], c='grey', s=30)"
   ]
  },
  {
   "cell_type": "code",
   "execution_count": 13,
   "metadata": {},
   "outputs": [],
   "source": [
    "## Initially setting a range of clusters to be evaluated from\n",
    "min_clusters = 10\n",
    "max_clusters = math.floor(math.sqrt(df.shape[0])) + 20"
   ]
  },
  {
   "cell_type": "code",
   "execution_count": 14,
   "metadata": {},
   "outputs": [],
   "source": [
    "n_clusters = np.arange(min_clusters, max_clusters)\n",
    "iterations = 10"
   ]
  },
  {
   "cell_type": "markdown",
   "metadata": {},
   "source": [
    "In order to determine the number of clusters to give as input to the Gaussian Mixture Model, we will look at the distribution of **A**kaike **I**nformation **C**riterion (AIC) and **B**ayesian **I**nformation **C**riterion (BIC) for the model by setting different values of the number of clusters. This criterions gives us an estimation on how much is good the GMM in terms of predicting the data we actually have. The lower is the BIC/AIC, the better is the model to actually predict the data we have, and by extension, the true, unknown, distribution. In order to avoid overfitting, this technique penalizes models with big number of clusters. "
   ]
  },
  {
   "cell_type": "markdown",
   "metadata": {},
   "source": [
    "### BIC"
   ]
  },
  {
   "cell_type": "code",
   "execution_count": 29,
   "metadata": {},
   "outputs": [
    {
     "name": "stderr",
     "output_type": "stream",
     "text": [
      "36it [00:24,  1.49it/s]\n"
     ]
    }
   ],
   "source": [
    "BIC = np.zeros(n_clusters.shape)\n",
    "AIC = np.zeros(n_clusters.shape)\n",
    "\n",
    "for i, n in tqdm(enumerate(n_clusters)):\n",
    "    gmm=GMM(n, n_init=2).fit(X) \n",
    "\n",
    "    AIC[i] = gmm.aic(X)\n",
    "    BIC[i] = gmm.bic(X)"
   ]
  },
  {
   "cell_type": "code",
   "execution_count": 30,
   "metadata": {},
   "outputs": [
    {
     "data": {
      "image/png": "[encoded data removed]",
      "text/plain": [
       "<Figure size 432x288 with 1 Axes>"
      ]
     },
     "metadata": {
      "needs_background": "light"
     },
     "output_type": "display_data"
    }
   ],
   "source": [
    "plt.figure()\n",
    "plt.plot(n_clusters, AIC, label='AIC')\n",
    "plt.plot(n_clusters, BIC, label='BIC')\n",
    "plt.legend(loc=0)\n",
    "plt.xlabel('n_components')\n",
    "plt.ylabel('AIC / BIC')\n",
    "plt.savefig('AIC-BIC.png')"
   ]
  },
  {
   "cell_type": "markdown",
   "metadata": {},
   "source": [
    "We can notice two things here. Firstly, the curves (for both AIC and BIC) is fairly smooth and monotonic. The second is that the curves follows different slopes in different part of it. Taking into account these two observations, we will determine the number of clusters at the position where the BIC/AIC curve change slope is big."
   ]
  },
  {
   "cell_type": "markdown",
   "metadata": {},
   "source": [
    "### Determination of number of clusters"
   ]
  },
  {
   "cell_type": "code",
   "execution_count": 31,
   "metadata": {},
   "outputs": [],
   "source": [
    "nPoints = len(AIC)\n",
    "allCoord = np.vstack((range(min_clusters , max_clusters), AIC)).T\n",
    "np.array([range(min_clusters, max_clusters), AIC])\n",
    "firstPoint = allCoord[0]\n",
    "lineVec = allCoord[-1] - allCoord[0]\n",
    "lineVecNorm = lineVec / np.sqrt(np.sum(lineVec**2))\n",
    "vecFromFirst = allCoord - firstPoint\n",
    "scalarProduct = np.sum(vecFromFirst * np.matlib.repmat(lineVecNorm, nPoints, 1), axis=1)\n",
    "vecFromFirstParallel = np.outer(scalarProduct, lineVecNorm)\n",
    "vecToLine = vecFromFirst - vecFromFirstParallel\n",
    "distToLine = np.sqrt(np.sum(vecToLine ** 2, axis=1))\n",
    "idxOfBestPoint = np.argmax(distToLine)"
   ]
  },
  {
   "cell_type": "code",
   "execution_count": 32,
   "metadata": {},
   "outputs": [
    {
     "name": "stdout",
     "output_type": "stream",
     "text": [
      "The chosen value for number of clusters is:  18\n"
     ]
    }
   ],
   "source": [
    "n = min_clusters + idxOfBestPoint\n",
    "print('The chosen value for number of clusters is: ', n)"
   ]
  },
  {
   "cell_type": "markdown",
   "metadata": {},
   "source": [
    "### Defining the model and getting its results"
   ]
  },
  {
   "cell_type": "code",
   "execution_count": 33,
   "metadata": {},
   "outputs": [],
   "source": [
    "gmm = GMM(n_components=n)\n",
    "gmm.fit(X)\n",
    "preds = gmm.predict(X)"
   ]
  },
  {
   "cell_type": "code",
   "execution_count": 34,
   "metadata": {},
   "outputs": [
    {
     "data": {
      "text/plain": [
       "{0: array([156, 247, 319, 365, 468, 501, 555, 558, 561, 642, 648]),\n",
       " 1: array([ 92, 128, 129, 130, 131, 133, 136, 141, 142, 145, 146, 149, 155,\n",
       "        159, 160, 161, 162, 163, 164, 165, 166, 171, 172, 179, 180, 225,\n",
       "        231, 261, 268, 272, 288, 329, 330, 333, 339, 368, 369, 373, 375,\n",
       "        379, 382, 389, 390, 391, 392, 395, 399, 442, 446, 449, 450, 452,\n",
       "        453, 457, 472, 509, 510, 524, 529, 530, 536, 537, 541, 544, 562,\n",
       "        563, 569, 572, 580, 586, 592, 606, 607, 619, 623, 624, 630, 631,\n",
       "        632, 639, 649, 652, 655, 668, 669, 670, 671, 672, 677]),\n",
       " 2: array([132, 147, 148, 150, 152, 181, 229, 232, 233, 242, 259, 265, 269,\n",
       "        270, 286, 289, 291, 322, 332, 338, 370, 387, 413, 441, 443, 444,\n",
       "        447, 448, 502, 521, 522, 542, 543, 583, 584, 587, 588, 591, 593,\n",
       "        595, 605, 616, 625, 626, 629, 636, 637, 659, 682, 683]),\n",
       " 3: array([  0,   1,   5,   7,  10,  12,  28,  94,  95,  97,  99, 125, 126,\n",
       "        127, 138, 154, 183, 184, 186, 187, 198, 201, 227, 258, 278, 282,\n",
       "        294, 300, 303, 304, 306, 372, 376, 377, 396, 397, 479, 511, 531,\n",
       "        547, 548, 559, 566, 568, 578, 579, 582, 620, 647, 651, 653, 656,\n",
       "        658, 664, 673]),\n",
       " 4: array([ 18,  20,  31,  54, 173, 175, 203, 204, 211, 212, 213, 216, 222,\n",
       "        230, 263, 266, 267, 276, 280, 281, 283, 284, 287, 317, 318, 321,\n",
       "        325, 337, 340, 343, 351, 353, 363, 364, 408, 412, 415, 471, 480,\n",
       "        493, 495, 498, 499, 503, 513, 523, 528, 535, 545, 550, 557, 581,\n",
       "        599, 618, 638, 646, 657, 678, 680]),\n",
       " 5: array([ 13,  14,  15,  16,  17,  21,  22,  23,  25,  26,  29,  32,  34,\n",
       "        176, 215, 219, 234, 235, 236, 238, 239, 240, 241, 243, 244, 245,\n",
       "        246, 248, 249, 250, 251, 252, 253, 254, 255, 299, 346, 347, 357,\n",
       "        383, 386, 402, 411, 459, 461, 462, 463, 464, 465, 466, 469, 470,\n",
       "        551, 596, 604, 644, 681]),\n",
       " 6: array([ 19,  38,  42,  43,  44,  45,  46,  48,  49,  51,  52,  87,  88,\n",
       "         89, 102, 106, 107, 108, 110, 111, 113, 114, 123, 158, 170, 218,\n",
       "        324, 327, 342, 367, 388, 394, 458, 474, 475, 476, 497, 506, 508,\n",
       "        526, 527, 554, 560, 590, 598, 608, 613, 617, 627, 628]),\n",
       " 7: array([ 47, 109, 137, 153, 214, 221, 224, 226, 228, 273, 275, 290, 323,\n",
       "        352, 359, 401, 403, 406, 409, 496, 552, 594, 641]),\n",
       " 8: array([ 56,  57,  58,  60,  61,  62,  64,  65,  66,  68,  69,  70,  72,\n",
       "         73,  75,  77,  79,  80,  83,  85,  90,  91, 115, 116, 117, 120,\n",
       "        122, 139, 417, 418, 420, 421, 423, 425, 426, 428, 429, 430, 431,\n",
       "        435, 437, 439, 515, 516, 518, 519, 549, 556, 645, 675]),\n",
       " 9: array([ 93,  96,  98, 124, 277, 279, 478, 481, 565, 567, 654]),\n",
       " 10: array([ 24,  37, 101, 140, 143, 144, 168, 202, 205, 207, 208, 209, 274,\n",
       "        315, 334, 335, 380, 381, 477, 492, 532, 533, 564, 600, 650]),\n",
       " 11: array([ 30,  33,  36,  39,  40,  41,  50,  67, 100, 103, 104, 105, 112,\n",
       "        157, 169, 174, 177, 178, 182, 220, 237, 260, 295, 316, 320, 326,\n",
       "        328, 341, 344, 345, 348, 349, 350, 354, 355, 356, 358, 360, 361,\n",
       "        362, 371, 374, 385, 393, 400, 407, 410, 424, 451, 454, 455, 456,\n",
       "        460, 473, 483, 488, 494, 500, 504, 507, 525, 546, 553, 570, 571,\n",
       "        576, 577, 597, 601, 602, 603, 614, 621, 622, 640, 643, 660, 661,\n",
       "        662, 663, 666, 667, 676]),\n",
       " 12: array([  3,  27,  53,  55,  59,  63,  71,  74,  76,  78,  81,  82,  84,\n",
       "         86, 118, 119, 121, 192, 296, 297, 298, 305, 398, 404, 405, 414,\n",
       "        416, 419, 422, 427, 432, 433, 434, 436, 438, 440, 467, 482, 489,\n",
       "        512, 514, 517, 520, 573, 574, 575, 615, 665]),\n",
       " 13: array([ 35, 151, 217, 223, 256, 257, 271, 285, 293, 366, 445, 484, 485,\n",
       "        486, 487, 589, 679]),\n",
       " 14: array([  2,   4,   6,   8,   9,  11, 185, 188, 189, 190, 191, 193, 194,\n",
       "        195, 196, 197, 199, 200, 301, 302, 307, 308, 309, 310, 311, 312,\n",
       "        313, 314, 490, 491, 609, 610, 611, 612, 674]),\n",
       " 15: array([134, 135, 167, 378, 384, 505]),\n",
       " 16: array([585]),\n",
       " 17: array([206, 210, 262, 264, 292, 331, 336, 534, 538, 539, 540, 633, 634,\n",
       "        635])}"
      ]
     },
     "execution_count": 34,
     "metadata": {},
     "output_type": "execute_result"
    }
   ],
   "source": [
    "## A dictionary is made wherein for each cluster keys, the index of rows belonging to it are stored as its values\n",
    "cluster_dict = {i: np.where(preds == i)[0] for i in range(n)}\n",
    "cluster_dict"
   ]
  },
  {
   "cell_type": "code",
   "execution_count": 36,
   "metadata": {},
   "outputs": [],
   "source": [
    "## A txt outfile file is created and the results are written to it as needed\n",
    "output_file = open(\"output.txt\",\"w\") \n",
    "\n",
    "for key,value in cluster_dict.items():\n",
    "    output_file.write('cluster id: ' + str(key) + '\\n')\n",
    "    for i in value:\n",
    "        output_file.write(df['Headlines'].iloc[i] + '\\n')\n",
    "    output_file.write('*' * 100)\n",
    "    output_file.write('\\n')"
   ]
  },
  {
   "cell_type": "markdown",
   "metadata": {},
   "source": [
    "### Use of Gaussian Mixture Model (GMM)\n",
    "\n",
    "Gaussian mixture models can be used to cluster unlabeled data in much the same way as k-means. There are, however, advantages to using Gaussian mixture models over k-means which is why I used GMM in this case.\n",
    "\n",
    "K-means only finds out clusters of circular shapes. It fails to cluster data together when arbitrary shaped clusters are needed. One way to think about the k-means model is that it places a circle (or, in higher dimensions, a hyper-sphere) at the center of each cluster, with a radius defined by the most distant point in the cluster. This works fine for when our data is circular. However, when our data takes on different shape, the results come out unexpected. In contrast, GMMs can handle even very oblong clusters and can determine arbitrary shaped clusters.\n",
    "\n"
   ]
  }
 ],
 "metadata": {
  "kernelspec": {
   "display_name": "Python 3",
   "language": "python",
   "name": "python3"
  },
  "language_info": {
   "codemirror_mode": {
    "name": "ipython",
    "version": 3
   },
   "file_extension": ".py",
   "mimetype": "text/x-python",
   "name": "python",
   "nbconvert_exporter": "python",
   "pygments_lexer": "ipython3",
   "version": "3.6.8"
  }
 },
 "nbformat": 4,
 "nbformat_minor": 2
}
