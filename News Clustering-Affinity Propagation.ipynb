{
 "cells": [
  {
   "cell_type": "markdown",
   "metadata": {},
   "source": [
    "## Jupyter Notebook : Text Clustering \n",
    "\n",
    "#### - Adirtha Borgohain"
   ]
  },
  {
   "cell_type": "code",
   "execution_count": 52,
   "metadata": {},
   "outputs": [],
   "source": [
    "## Import all necessary libraries and modules\n",
    "import math\n",
    "import string\n",
    "import gensim\n",
    "import numpy as np\n",
    "import numpy.matlib\n",
    "import pandas as pd\n",
    "from tqdm import tqdm\n",
    "import matplotlib.pyplot as plt\n",
    "from gensim.models import Word2Vec\n",
    "from sklearn.decomposition import PCA\n",
    "from sklearn.cluster import AffinityPropagation\n",
    "%matplotlib inline"
   ]
  },
  {
   "cell_type": "code",
   "execution_count": 2,
   "metadata": {},
   "outputs": [],
   "source": [
    "DATA_DIR = './'\n",
    "FILE_NAME = 'text_to_cluster.txt'\n",
    "delimiter = '\\n'"
   ]
  },
  {
   "cell_type": "code",
   "execution_count": 3,
   "metadata": {},
   "outputs": [
    {
     "data": {
      "text/html": [
       "<div>\n",
       "<style scoped>\n",
       "    .dataframe tbody tr th:only-of-type {\n",
       "        vertical-align: middle;\n",
       "    }\n",
       "\n",
       "    .dataframe tbody tr th {\n",
       "        vertical-align: top;\n",
       "    }\n",
       "\n",
       "    .dataframe thead th {\n",
       "        text-align: right;\n",
       "    }\n",
       "</style>\n",
       "<table border=\"1\" class=\"dataframe\">\n",
       "  <thead>\n",
       "    <tr style=\"text-align: right;\">\n",
       "      <th></th>\n",
       "      <th>Headlines</th>\n",
       "    </tr>\n",
       "  </thead>\n",
       "  <tbody>\n",
       "    <tr>\n",
       "      <th>0</th>\n",
       "      <td>Ransomware attack at Mexico's Pemex halts work...</td>\n",
       "    </tr>\n",
       "    <tr>\n",
       "      <th>1</th>\n",
       "      <td>#city | #ransomware | Ransomware Attack At Mex...</td>\n",
       "    </tr>\n",
       "    <tr>\n",
       "      <th>2</th>\n",
       "      <td>Mexico's Pemex Oil Suffers Ransomware Attack, ...</td>\n",
       "    </tr>\n",
       "    <tr>\n",
       "      <th>3</th>\n",
       "      <td>A Mexican oil company was hit by ransomware at...</td>\n",
       "    </tr>\n",
       "    <tr>\n",
       "      <th>4</th>\n",
       "      <td>Pemex Struck by Ransomware Attack</td>\n",
       "    </tr>\n",
       "  </tbody>\n",
       "</table>\n",
       "</div>"
      ],
      "text/plain": [
       "                                           Headlines\n",
       "0  Ransomware attack at Mexico's Pemex halts work...\n",
       "1  #city | #ransomware | Ransomware Attack At Mex...\n",
       "2  Mexico's Pemex Oil Suffers Ransomware Attack, ...\n",
       "3  A Mexican oil company was hit by ransomware at...\n",
       "4                  Pemex Struck by Ransomware Attack"
      ]
     },
     "execution_count": 3,
     "metadata": {},
     "output_type": "execute_result"
    }
   ],
   "source": [
    "## Reading the data file\n",
    "df = pd.read_csv(DATA_DIR + FILE_NAME, delimiter=delimiter, header=None, names=[\"Headlines\"])\n",
    "df.head()"
   ]
  },
  {
   "cell_type": "code",
   "execution_count": 4,
   "metadata": {},
   "outputs": [
    {
     "name": "stdout",
     "output_type": "stream",
     "text": [
      "<class 'pandas.core.frame.DataFrame'>\n",
      "RangeIndex: 684 entries, 0 to 683\n",
      "Data columns (total 1 columns):\n",
      "Headlines    684 non-null object\n",
      "dtypes: object(1)\n",
      "memory usage: 5.5+ KB\n"
     ]
    }
   ],
   "source": [
    "df.info()"
   ]
  },
  {
   "cell_type": "code",
   "execution_count": 5,
   "metadata": {},
   "outputs": [],
   "source": [
    "## Cleaning the text in headlines\n",
    "\n",
    "filter_text = string.punctuation + '“”|”' + string.digits\n",
    "\n",
    "df['Filter_Headlines'] = df['Headlines'].apply(lambda x: x.lower())\n",
    "df['Filter_Headlines'] = df['Filter_Headlines'].apply(lambda x: x.translate(str.maketrans(filter_text,' '*len(filter_text),'')))\n",
    "df_list = df['Filter_Headlines'].values"
   ]
  },
  {
   "cell_type": "markdown",
   "metadata": {},
   "source": [
    "I used word embeddings in order to convert each of the word in our vocabulary to vectors. I downloaded pre-trained glove embeddings from *twitter27b* where each vector is of dimension 100. Once I load the word vectors to my gensim model, I tokenize each of the sentences into their words and find out the respective vectors for each word. In order to vectorize a complete sentence, I took the mean of each element of the word-vectors of a sentence in order to derive a single 100 dimension vector."
   ]
  },
  {
   "cell_type": "code",
   "execution_count": 6,
   "metadata": {},
   "outputs": [],
   "source": [
    "word_list = []\n",
    "for line in df_list:\n",
    "    temp_list = []\n",
    "    for word in line.split():\n",
    "        temp_list.append(word)\n",
    "    word_list.append(temp_list)"
   ]
  },
  {
   "cell_type": "code",
   "execution_count": 7,
   "metadata": {},
   "outputs": [],
   "source": [
    "def sent_vectorizer(sent, model):\n",
    "    sent_vec =[]\n",
    "    numw = 0\n",
    "    for w in sent:\n",
    "        try:\n",
    "            if numw == 0:\n",
    "                sent_vec = model[w]\n",
    "            else:\n",
    "                sent_vec = np.add(sent_vec, model[w])\n",
    "            numw+=1\n",
    "        except:\n",
    "            pass\n",
    "     \n",
    "    return np.asarray(sent_vec) / numw"
   ]
  },
  {
   "cell_type": "code",
   "execution_count": 8,
   "metadata": {},
   "outputs": [],
   "source": [
    "## This cell is only to be executed once when we convert the pre-trained vector file format from \n",
    "## glove to word2vec format inorder to load it to our model\n",
    "\n",
    "### Word-vectors downloaded from: \n",
    "###      https://www.kaggle.com/bertcarremans/glovetwitter27b100dtxt#glove.twitter.27B.100d.txt\n",
    "### I have not included it in the zip file because the size is of 1 gb.\n",
    "    \n",
    "# from gensim.scripts.glove2word2vec import glove2word2vec\n",
    "# glove2word2vec('glove.twitter.27B.100d.txt', 'glove27B.txt')"
   ]
  },
  {
   "cell_type": "code",
   "execution_count": 9,
   "metadata": {},
   "outputs": [],
   "source": [
    "## Loading the model\n",
    "model = gensim.models.KeyedVectors.load_word2vec_format('glove27B.txt', binary=False) "
   ]
  },
  {
   "cell_type": "code",
   "execution_count": 10,
   "metadata": {},
   "outputs": [
    {
     "name": "stderr",
     "output_type": "stream",
     "text": [
      "100%|██████████| 684/684 [00:00<00:00, 39716.81it/s]\n"
     ]
    }
   ],
   "source": [
    "X = []\n",
    "for sentence in tqdm(word_list):\n",
    "    X.append(sent_vectorizer(sentence, model))\n",
    "X = np.array(X)"
   ]
  },
  {
   "cell_type": "code",
   "execution_count": 11,
   "metadata": {},
   "outputs": [
    {
     "data": {
      "text/plain": [
       "(684, 100)"
      ]
     },
     "execution_count": 11,
     "metadata": {},
     "output_type": "execute_result"
    }
   ],
   "source": [
    "X.shape"
   ]
  },
  {
   "cell_type": "code",
   "execution_count": 12,
   "metadata": {},
   "outputs": [
    {
     "data": {
      "text/plain": [
       "<matplotlib.collections.PathCollection at 0x7f626c6989e8>"
      ]
     },
     "execution_count": 12,
     "metadata": {},
     "output_type": "execute_result"
    },
    {
     "data": {
      "image/png": "[encoded data removed]",
      "text/plain": [
       "<Figure size 432x288 with 1 Axes>"
      ]
     },
     "metadata": {
      "needs_background": "light"
     },
     "output_type": "display_data"
    }
   ],
   "source": [
    "## We take a look at the distribution of the data after reducing the vectors to 2-dimensions through PCA\n",
    "sklearn_pca = PCA(n_components = 2)\n",
    "Y_PCA = sklearn_pca.fit_transform(X)\n",
    "plt.scatter(Y_PCA[:, 0], Y_PCA[:, 1], c='grey', s=30)"
   ]
  },
  {
   "cell_type": "markdown",
   "metadata": {},
   "source": [
    "### Defining the model and getting its results"
   ]
  },
  {
   "cell_type": "code",
   "execution_count": 53,
   "metadata": {},
   "outputs": [
    {
     "data": {
      "text/plain": [
       "AffinityPropagation(affinity='euclidean', convergence_iter=15, copy=True,\n",
       "                    damping=0.5, max_iter=200, preference=None, verbose=False)"
      ]
     },
     "execution_count": 53,
     "metadata": {},
     "output_type": "execute_result"
    }
   ],
   "source": [
    "clf = AffinityPropagation()\n",
    "clf.fit(X)"
   ]
  },
  {
   "cell_type": "code",
   "execution_count": 56,
   "metadata": {},
   "outputs": [
    {
     "data": {
      "text/plain": [
       "81"
      ]
     },
     "execution_count": 56,
     "metadata": {},
     "output_type": "execute_result"
    }
   ],
   "source": [
    "n_clusters = max(clf.labels_)"
   ]
  },
  {
   "cell_type": "code",
   "execution_count": 61,
   "metadata": {},
   "outputs": [
    {
     "data": {
      "text/plain": [
       "{0: array([  0,   1,   7,  10, 184, 186, 187, 198, 259, 303, 304, 306, 559,\n",
       "        568, 647, 651]),\n",
       " 1: array([  2,   4, 189, 190, 194, 300, 301, 302, 308, 609, 611]),\n",
       " 2: array([ 12,  99, 201, 282]),\n",
       " 3: array([ 14,  15,  17,  21,  32, 176, 234, 235, 238, 240, 250, 251, 346,\n",
       "        357, 386, 461, 470, 596, 598]),\n",
       " 4: array([ 16,  23,  26,  94, 125, 214, 219, 236, 244, 246, 252, 278, 459,\n",
       "        466, 479]),\n",
       " 5: array([ 18,  54, 340, 415, 471, 503, 513, 523, 618]),\n",
       " 6: array([ 20, 216, 321, 350, 363, 495]),\n",
       " 7: array([ 25, 239, 245, 462, 465]),\n",
       " 8: array([ 13,  22,  29,  34, 215, 241, 243, 248, 253, 254, 255, 463, 464,\n",
       "        469, 604, 681]),\n",
       " 9: array([ 30,  42,  67, 174, 177, 178, 220, 249, 266, 345, 358, 403, 410,\n",
       "        424, 474, 526]),\n",
       " 10: array([ 31, 213, 337, 408, 535]),\n",
       " 11: array([ 35, 217, 223, 256, 257, 285, 366, 484, 485, 486, 487, 679]),\n",
       " 12: array([ 36, 100, 393, 507, 620]),\n",
       " 13: array([ 38,  45,  51,  52, 102, 107, 113, 114, 476, 527, 617]),\n",
       " 14: array([ 33,  40, 104, 326]),\n",
       " 15: array([ 39,  41, 103, 105, 328, 341, 601, 603, 614]),\n",
       " 16: array([ 43,  46,  48,  49, 108, 110, 111, 327, 475, 554]),\n",
       " 17: array([ 50, 112, 356, 360]),\n",
       " 18: array([ 53,  86, 414, 512]),\n",
       " 19: array([ 56,  72, 417, 515]),\n",
       " 20: array([ 58,  62,  64, 377, 418, 421, 516, 519, 548]),\n",
       " 21: array([ 60,  61,  68,  69,  83,  91, 120, 420, 423, 428, 429, 431, 437,\n",
       "        518, 556, 645, 675]),\n",
       " 22: array([ 66,  71,  74,  75, 422, 427, 430, 433, 440, 517]),\n",
       " 23: array([ 59,  63,  73,  76,  82,  84, 119, 121, 298, 419, 425, 434, 436,\n",
       "        438, 520]),\n",
       " 24: array([ 87,  88,  89, 123, 379, 388, 394, 458, 506, 508, 563, 649]),\n",
       " 25: array([ 57,  65,  70,  77,  79,  80,  85,  90, 115, 116, 117, 122, 426,\n",
       "        435, 439]),\n",
       " 26: array([ 95, 126, 566, 653]),\n",
       " 27: array([ 93,  96,  98, 124, 277, 279, 478, 481, 565, 567, 654]),\n",
       " 28: array([130, 131, 164, 165, 668, 669, 670]),\n",
       " 29: array([132, 322, 502, 595, 659]),\n",
       " 30: array([129, 133, 166]),\n",
       " 31: array([134, 135, 167, 378, 384, 505]),\n",
       " 32: array([138, 227, 324, 497, 547, 673]),\n",
       " 33: array([137, 141, 142, 145, 162, 163, 329, 368, 382, 389, 450]),\n",
       " 34: array([136, 143, 144, 146, 154, 299, 333, 380, 381, 390, 397, 510, 511]),\n",
       " 35: array([148, 233, 291, 448, 522, 591]),\n",
       " 36: array([150, 269, 443, 587]),\n",
       " 37: array([151, 271, 293, 445, 589]),\n",
       " 38: array([152, 153, 232, 273, 289, 447, 521, 593, 594]),\n",
       " 39: array([ 37, 101, 128, 156, 159, 231, 288, 319, 449, 501]),\n",
       " 40: array([157, 169, 320, 494, 553, 579, 643, 656, 667]),\n",
       " 41: array([ 44, 106, 160, 171, 294, 362, 373, 580, 628, 630, 631, 677]),\n",
       " 42: array([161, 172, 179, 180, 339, 375, 529, 530]),\n",
       " 43: array([181, 370, 584]),\n",
       " 44: array([182, 371, 400, 597, 676]),\n",
       " 45: array([  3,   6,   8,   9,  11,  97, 127, 185, 188, 191, 192, 193, 195,\n",
       "        196, 197, 199, 200, 224, 305, 307, 309, 310, 311, 312, 313, 314,\n",
       "        406, 490, 491, 578, 610, 612, 674]),\n",
       " 46: array([202, 208, 210, 315, 334, 492, 533, 534]),\n",
       " 47: array([218, 383, 590, 627]),\n",
       " 48: array([211, 212, 222, 263, 283, 284, 355, 412, 599]),\n",
       " 49: array([225, 376, 385, 472, 524, 531, 560, 602, 606]),\n",
       " 50: array([ 47, 109, 221, 226, 228, 275, 290, 323, 342, 359, 367, 401, 409,\n",
       "        496, 608]),\n",
       " 51: array([204, 230, 287, 557, 646, 678]),\n",
       " 52: array([247, 468, 558, 642]),\n",
       " 53: array([258, 260, 473, 525]),\n",
       " 54: array([261, 330, 395, 509, 537, 607, 632]),\n",
       " 55: array([140, 168, 206, 262, 331, 538, 540, 633, 634]),\n",
       " 56: array([264, 292, 336, 539, 635]),\n",
       " 57: array([265, 338, 542, 636, 682, 683]),\n",
       " 58: array([267, 344, 351, 354]),\n",
       " 59: array([270, 444, 588, 626]),\n",
       " 60: array([ 92, 149, 155, 268, 272, 391, 392, 442, 446, 456, 536, 572, 586,\n",
       "        623, 624, 625, 629, 655]),\n",
       " 61: array([ 24, 207, 209, 274, 335, 477, 564, 650]),\n",
       " 62: array([175, 203, 280, 281, 317, 318, 325, 353, 480, 493, 498, 499, 528,\n",
       "        581, 657, 680]),\n",
       " 63: array([365, 555, 561, 648]),\n",
       " 64: array([ 19, 158, 170, 183, 205, 369, 372, 402, 532, 619, 671, 672]),\n",
       " 65: array([411]),\n",
       " 66: array([242, 332, 347, 352, 387, 413, 543, 616, 637, 661, 662, 663]),\n",
       " 67: array([147, 229, 286, 295, 349, 441, 488, 583]),\n",
       " 68: array([452, 544, 639]),\n",
       " 69: array([364, 451, 453, 455, 457, 569]),\n",
       " 70: array([173, 237, 316, 343, 348, 374, 454, 460, 500, 504, 545, 550, 570,\n",
       "        571, 638, 666]),\n",
       " 71: array([  5, 482, 483, 575, 576, 577]),\n",
       " 72: array([ 27,  55,  78,  81, 118, 416, 432, 467, 514]),\n",
       " 73: array([139, 361, 407, 546, 549, 621, 622, 640, 660]),\n",
       " 74: array([551, 552, 641, 644]),\n",
       " 75: array([562, 592, 652]),\n",
       " 76: array([276, 296, 297, 398, 404, 405, 489, 573, 574, 615, 665]),\n",
       " 77: array([585]),\n",
       " 78: array([600]),\n",
       " 79: array([605]),\n",
       " 80: array([613]),\n",
       " 81: array([ 28, 396, 399, 541, 582, 658, 664])}"
      ]
     },
     "execution_count": 61,
     "metadata": {},
     "output_type": "execute_result"
    }
   ],
   "source": [
    "cluster_dict = {i: np.where(clf.labels_ == i)[0] for i in range(n_clusters)}\n",
    "cluster_dict"
   ]
  },
  {
   "cell_type": "code",
   "execution_count": 63,
   "metadata": {},
   "outputs": [],
   "source": [
    "## A txt outfile file is created and the results are written to it as needed\n",
    "output_file = open(\"output-Affinity.txt\",\"w\") \n",
    "\n",
    "for key,value in cluster_dict.items():\n",
    "    output_file.write('cluster id: ' + str(key) + '\\n')\n",
    "    for i in value:\n",
    "        output_file.write(df['Headlines'].iloc[i] + '\\n')\n",
    "    output_file.write('*' * 100)\n",
    "    output_file.write('\\n')"
   ]
  }
 ],
 "metadata": {
  "kernelspec": {
   "display_name": "Python 3",
   "language": "python",
   "name": "python3"
  },
  "language_info": {
   "codemirror_mode": {
    "name": "ipython",
    "version": 3
   },
   "file_extension": ".py",
   "mimetype": "text/x-python",
   "name": "python",
   "nbconvert_exporter": "python",
   "pygments_lexer": "ipython3",
   "version": "3.6.8"
  }
 },
 "nbformat": 4,
 "nbformat_minor": 2
}
