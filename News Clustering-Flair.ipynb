{
 "cells": [
  {
   "cell_type": "markdown",
   "metadata": {},
   "source": [
    "## Jupyter Notebook : Text Clustering - flair\n",
    "\n",
    "#### - Adirtha Borgohain"
   ]
  },
  {
   "cell_type": "code",
   "execution_count": 1,
   "metadata": {},
   "outputs": [],
   "source": [
    "## Importing all necessary libraries and modules\n",
    "import math\n",
    "import string\n",
    "import numpy as np\n",
    "import pandas as pd\n",
    "import numpy.matlib\n",
    "import matplotlib.pyplot as plt\n",
    "from nltk.corpus import stopwords\n",
    "from sklearn.cluster import KMeans\n",
    "# from nltk.tokenize import RegexpTokenizer\n",
    "from sklearn.feature_extraction import text\n",
    "from sklearn.metrics import silhouette_score\n",
    "from nltk.stem.snowball import SnowballStemmer\n",
    "from nltk.stem.wordnet import WordNetLemmatizer\n",
    "from sklearn.feature_extraction.text import TfidfVectorizer\n",
    "from gensim.models import Word2Vec\n",
    "from flair.embeddings import FlairEmbeddings, Sentence, DocumentPoolEmbeddings\n",
    "%matplotlib inline"
   ]
  },
  {
   "cell_type": "code",
   "execution_count": 2,
   "metadata": {},
   "outputs": [],
   "source": [
    "flair_embed = FlairEmbeddings('news-forward')\n",
    "document_embeddings = DocumentPoolEmbeddings([flair_embed])"
   ]
  },
  {
   "cell_type": "code",
   "execution_count": 3,
   "metadata": {},
   "outputs": [],
   "source": [
    "DATA_DIR = './'\n",
    "FILE_NAME = 'text_to_cluster.txt'\n",
    "delimiter = '\\n'"
   ]
  },
  {
   "cell_type": "code",
   "execution_count": 4,
   "metadata": {},
   "outputs": [
    {
     "data": {
      "text/html": [
       "<div>\n",
       "<style scoped>\n",
       "    .dataframe tbody tr th:only-of-type {\n",
       "        vertical-align: middle;\n",
       "    }\n",
       "\n",
       "    .dataframe tbody tr th {\n",
       "        vertical-align: top;\n",
       "    }\n",
       "\n",
       "    .dataframe thead th {\n",
       "        text-align: right;\n",
       "    }\n",
       "</style>\n",
       "<table border=\"1\" class=\"dataframe\">\n",
       "  <thead>\n",
       "    <tr style=\"text-align: right;\">\n",
       "      <th></th>\n",
       "      <th>Headlines</th>\n",
       "    </tr>\n",
       "  </thead>\n",
       "  <tbody>\n",
       "    <tr>\n",
       "      <th>0</th>\n",
       "      <td>Ransomware attack at Mexico's Pemex halts work...</td>\n",
       "    </tr>\n",
       "    <tr>\n",
       "      <th>1</th>\n",
       "      <td>#city | #ransomware | Ransomware Attack At Mex...</td>\n",
       "    </tr>\n",
       "    <tr>\n",
       "      <th>2</th>\n",
       "      <td>Mexico's Pemex Oil Suffers Ransomware Attack, ...</td>\n",
       "    </tr>\n",
       "    <tr>\n",
       "      <th>3</th>\n",
       "      <td>A Mexican oil company was hit by ransomware at...</td>\n",
       "    </tr>\n",
       "    <tr>\n",
       "      <th>4</th>\n",
       "      <td>Pemex Struck by Ransomware Attack</td>\n",
       "    </tr>\n",
       "  </tbody>\n",
       "</table>\n",
       "</div>"
      ],
      "text/plain": [
       "                                           Headlines\n",
       "0  Ransomware attack at Mexico's Pemex halts work...\n",
       "1  #city | #ransomware | Ransomware Attack At Mex...\n",
       "2  Mexico's Pemex Oil Suffers Ransomware Attack, ...\n",
       "3  A Mexican oil company was hit by ransomware at...\n",
       "4                  Pemex Struck by Ransomware Attack"
      ]
     },
     "execution_count": 4,
     "metadata": {},
     "output_type": "execute_result"
    }
   ],
   "source": [
    "## Reading the data file\n",
    "df = pd.read_csv(DATA_DIR + FILE_NAME, delimiter=delimiter, header=None, names=[\"Headlines\"])\n",
    "df.head()"
   ]
  },
  {
   "cell_type": "code",
   "execution_count": 5,
   "metadata": {},
   "outputs": [
    {
     "name": "stdout",
     "output_type": "stream",
     "text": [
      "<class 'pandas.core.frame.DataFrame'>\n",
      "RangeIndex: 684 entries, 0 to 683\n",
      "Data columns (total 1 columns):\n",
      "Headlines    684 non-null object\n",
      "dtypes: object(1)\n",
      "memory usage: 5.5+ KB\n"
     ]
    }
   ],
   "source": [
    "df.info()"
   ]
  },
  {
   "cell_type": "code",
   "execution_count": 6,
   "metadata": {},
   "outputs": [
    {
     "data": {
      "text/html": [
       "<div>\n",
       "<style scoped>\n",
       "    .dataframe tbody tr th:only-of-type {\n",
       "        vertical-align: middle;\n",
       "    }\n",
       "\n",
       "    .dataframe tbody tr th {\n",
       "        vertical-align: top;\n",
       "    }\n",
       "\n",
       "    .dataframe thead th {\n",
       "        text-align: right;\n",
       "    }\n",
       "</style>\n",
       "<table border=\"1\" class=\"dataframe\">\n",
       "  <thead>\n",
       "    <tr style=\"text-align: right;\">\n",
       "      <th></th>\n",
       "      <th>Headlines</th>\n",
       "    </tr>\n",
       "  </thead>\n",
       "  <tbody>\n",
       "    <tr>\n",
       "      <th>0</th>\n",
       "      <td>Ransomware attack at Mexico's Pemex halts work...</td>\n",
       "    </tr>\n",
       "    <tr>\n",
       "      <th>1</th>\n",
       "      <td>#city | #ransomware | Ransomware Attack At Mex...</td>\n",
       "    </tr>\n",
       "    <tr>\n",
       "      <th>2</th>\n",
       "      <td>Mexico's Pemex Oil Suffers Ransomware Attack, ...</td>\n",
       "    </tr>\n",
       "    <tr>\n",
       "      <th>3</th>\n",
       "      <td>A Mexican oil company was hit by ransomware at...</td>\n",
       "    </tr>\n",
       "    <tr>\n",
       "      <th>4</th>\n",
       "      <td>Pemex Struck by Ransomware Attack</td>\n",
       "    </tr>\n",
       "    <tr>\n",
       "      <th>...</th>\n",
       "      <td>...</td>\n",
       "    </tr>\n",
       "    <tr>\n",
       "      <th>326</th>\n",
       "      <td>Tips for Staying Safe Online</td>\n",
       "    </tr>\n",
       "    <tr>\n",
       "      <th>327</th>\n",
       "      <td>Stand up to Cyber Attacks with Cloud Backups</td>\n",
       "    </tr>\n",
       "    <tr>\n",
       "      <th>328</th>\n",
       "      <td>As cloud security improves, a weak link emerge...</td>\n",
       "    </tr>\n",
       "    <tr>\n",
       "      <th>329</th>\n",
       "      <td>Cisco released new patches to fix security bugs</td>\n",
       "    </tr>\n",
       "    <tr>\n",
       "      <th>330</th>\n",
       "      <td>Glimpse malware uses alternative DNS to evade ...</td>\n",
       "    </tr>\n",
       "  </tbody>\n",
       "</table>\n",
       "<p>331 rows × 1 columns</p>\n",
       "</div>"
      ],
      "text/plain": [
       "                                             Headlines\n",
       "0    Ransomware attack at Mexico's Pemex halts work...\n",
       "1    #city | #ransomware | Ransomware Attack At Mex...\n",
       "2    Mexico's Pemex Oil Suffers Ransomware Attack, ...\n",
       "3    A Mexican oil company was hit by ransomware at...\n",
       "4                    Pemex Struck by Ransomware Attack\n",
       "..                                                 ...\n",
       "326                       Tips for Staying Safe Online\n",
       "327       Stand up to Cyber Attacks with Cloud Backups\n",
       "328  As cloud security improves, a weak link emerge...\n",
       "329    Cisco released new patches to fix security bugs\n",
       "330  Glimpse malware uses alternative DNS to evade ...\n",
       "\n",
       "[331 rows x 1 columns]"
      ]
     },
     "execution_count": 6,
     "metadata": {},
     "output_type": "execute_result"
    }
   ],
   "source": [
    "## Removing all duplicate headlines and resetting the index\n",
    "df.drop_duplicates(keep='first', inplace=True)\n",
    "df.reset_index(drop=True)"
   ]
  },
  {
   "cell_type": "code",
   "execution_count": 7,
   "metadata": {},
   "outputs": [],
   "source": [
    "## Initially setting a range of clusters to be evaluated from\n",
    "min_clusters = 10\n",
    "max_clusters = math.floor(math.sqrt(df.shape[0])) + 10"
   ]
  },
  {
   "cell_type": "code",
   "execution_count": 8,
   "metadata": {},
   "outputs": [],
   "source": [
    "## Cleaning the text in headlines\n",
    "lemma = WordNetLemmatizer()\n",
    "stop_words = text.ENGLISH_STOP_WORDS\n",
    "filter_text = string.punctuation + '“”|”' + string.digits\n",
    "\n",
    "df['Filter_Headlines'] = df['Headlines'].apply(lambda x: x.lower())\n",
    "df['Filter_Headlines'] = df['Filter_Headlines'].apply(lambda x: x.translate(str.maketrans(filter_text,' '*len(filter_text),'')))\n",
    "df['Filter_Headlines'] = df['Filter_Headlines'].str.split(' ').apply(lambda x: ' '.join(k for k in x if k not in stop_words))\n",
    "df['Filter_Headlines'] = df['Filter_Headlines'].apply(lambda x: \"\".join([lemma.lemmatize(word) for word in x]))\n",
    "df['Filter_Headlines'] = df['Filter_Headlines'].replace('\\s+[a-zA-Z]\\s+', ' ', regex=True)"
   ]
  },
  {
   "cell_type": "code",
   "execution_count": 11,
   "metadata": {},
   "outputs": [],
   "source": [
    "df_list = df['Filter_Headlines'].values"
   ]
  },
  {
   "cell_type": "code",
   "execution_count": 12,
   "metadata": {},
   "outputs": [],
   "source": [
    "X = []\n",
    "# create an example sentence\n",
    "for x in df_list:\n",
    "    sentence = Sentence(x)\n",
    "\n",
    "# embed the sentence with our document embedding\n",
    "    document_embeddings.embed(sentence)\n",
    "\n",
    "# now check out the embedded sentence.\n",
    "    X.append(sentence.get_embedding().detach().numpy())"
   ]
  },
  {
   "cell_type": "code",
   "execution_count": 13,
   "metadata": {},
   "outputs": [
    {
     "name": "stdout",
     "output_type": "stream",
     "text": [
      "For n_clusters = 10, silhouette score is 0.05592195317149162\n",
      "For n_clusters = 11, silhouette score is 0.061610933393239975\n",
      "For n_clusters = 12, silhouette score is 0.06672552973031998\n",
      "For n_clusters = 13, silhouette score is 0.04891018569469452\n",
      "For n_clusters = 14, silhouette score is 0.05447032302618027\n",
      "For n_clusters = 15, silhouette score is 0.05241939797997475\n",
      "For n_clusters = 16, silhouette score is 0.04627124220132828\n",
      "For n_clusters = 17, silhouette score is 0.04707888513803482\n",
      "For n_clusters = 18, silhouette score is 0.041985780000686646\n",
      "For n_clusters = 19, silhouette score is 0.05955512449145317\n",
      "For n_clusters = 20, silhouette score is 0.045195117592811584\n",
      "For n_clusters = 21, silhouette score is 0.03410327434539795\n",
      "For n_clusters = 22, silhouette score is 0.03809686750173569\n",
      "For n_clusters = 23, silhouette score is 0.058338407427072525\n",
      "For n_clusters = 24, silhouette score is 0.03787286952137947\n",
      "For n_clusters = 25, silhouette score is 0.03923914581537247\n",
      "For n_clusters = 26, silhouette score is 0.03077864833176136\n",
      "For n_clusters = 27, silhouette score is 0.04481165111064911\n"
     ]
    },
    {
     "data": {
      "image/png": "[encoded data removed]",
      "text/plain": [
       "<Figure size 720x360 with 1 Axes>"
      ]
     },
     "metadata": {
      "needs_background": "light"
     },
     "output_type": "display_data"
    }
   ],
   "source": [
    "## Determing the silhoutte score for each possible value of K in [min_clusters, max_clusters)\n",
    "score_list = []\n",
    "n_cluster =  list(range(min_clusters, max_clusters))\n",
    "\n",
    "for n_clusters in range(min_clusters, max_clusters):\n",
    "    clusterer = KMeans(n_clusters=n_clusters)\n",
    "    preds = clusterer.fit_predict(X)\n",
    "    centers = clusterer.cluster_centers_\n",
    "    \n",
    "    score = silhouette_score (X, preds, metric='euclidean')\n",
    "    score_list.append(score)\n",
    "    print(f\"For n_clusters = { n_clusters }, silhouette score is { score }\")\n",
    "    \n",
    "plt.rcParams['figure.figsize'] = [10, 5]\n",
    "plt.plot(n_cluster, score_list)\n",
    "plt.xticks(range(min_clusters,max_clusters))\n",
    "plt.show()"
   ]
  },
  {
   "cell_type": "code",
   "execution_count": 14,
   "metadata": {},
   "outputs": [],
   "source": [
    "## The KMeans algorithm is run on the dataset and the most common words for each cluster is printed out\n",
    "kmeans = KMeans(n_clusters = 19, n_init = 10, n_jobs = 1) # n_init(number of iterations for clustering) n_jobs(number of cpu cores to use)\n",
    "kmeans.fit(X)\n",
    "## We look at the clusters generated by k-means.\n",
    "common_words = kmeans.cluster_centers_.argsort()[:,-1:-26:-1]"
   ]
  },
  {
   "cell_type": "code",
   "execution_count": 15,
   "metadata": {},
   "outputs": [
    {
     "data": {
      "text/plain": [
       "{0: array([ 19,  67, 100, 102, 198, 199, 213, 230, 231, 280, 287, 299]),\n",
       " 1: array([  0,   1,   2,   4,   5,   7,  10,  20,  25,  27,  45,  54,  66,\n",
       "         79,  82,  94,  95, 108, 124, 126, 144, 161, 173, 176, 197, 203,\n",
       "        204, 205, 206, 208, 214, 215, 221, 251, 257, 261, 275, 303, 308,\n",
       "        310, 328]),\n",
       " 2: array([ 50, 111, 168, 268, 279, 290, 315, 316, 317, 329]),\n",
       " 3: array([ 31, 112, 136, 137, 138, 152, 186, 187, 188, 189, 278, 318]),\n",
       " 4: array([ 98, 133, 160, 192, 216, 220, 224, 232, 241, 252, 256, 309, 321]),\n",
       " 5: array([ 92,  96,  99, 101, 103, 106, 125, 127, 128, 134, 139, 151, 159,\n",
       "        166, 169, 217, 233, 236, 238, 245, 247, 265, 266, 269, 270, 276,\n",
       "        289, 291, 304, 314, 323, 330]),\n",
       " 6: array([ 53,  55,  56,  58,  59,  60,  61,  62,  64,  68,  69,  70,  71,\n",
       "         72,  73,  74,  75,  76,  77,  78,  80,  81,  83,  84,  86,  90,\n",
       "         91, 262, 263, 264]),\n",
       " 7: array([  3,   6,   8,   9,  11, 141, 142, 143, 145, 146, 147, 165, 255]),\n",
       " 8: array([113, 148, 154, 163, 193, 227, 286]),\n",
       " 9: array([52]),\n",
       " 10: array([ 37,  38,  39,  42,  43,  44,  46,  48,  49,  51,  88,  89, 183,\n",
       "        185, 325]),\n",
       " 11: array([ 24,  30, 107, 110, 115, 129, 130, 150, 170, 175, 210, 211, 228,\n",
       "        235, 237, 242, 244, 277, 305]),\n",
       " 12: array([ 33,  36,  40,  41, 131, 157, 207, 212, 223, 225, 226, 229, 296,\n",
       "        297, 324, 326]),\n",
       " 13: array([ 63,  97, 135, 201, 254, 285, 288, 292, 313, 327]),\n",
       " 14: array([ 47,  65, 167, 196, 209, 222, 253, 259, 260, 283, 301, 302, 307,\n",
       "        311, 312]),\n",
       " 15: array([ 13,  15,  16,  17,  26,  29,  35, 117, 118, 171, 172, 177, 179,\n",
       "        182, 219]),\n",
       " 16: array([ 12,  18,  28,  57,  85,  87, 116, 119, 121, 132, 140, 153, 155,\n",
       "        164, 184, 190, 194, 200, 218, 234, 239, 243, 246, 248, 250, 258,\n",
       "        274, 281, 282, 284, 295, 320, 322]),\n",
       " 17: array([ 93, 104, 105, 109, 114, 120, 122, 123, 149, 156, 158, 162, 191,\n",
       "        195, 202, 240, 249, 267, 271, 272, 273, 293, 294, 298, 300, 306,\n",
       "        319]),\n",
       " 18: array([ 14,  21,  22,  23,  32,  34, 174, 178, 180, 181])}"
      ]
     },
     "execution_count": 15,
     "metadata": {},
     "output_type": "execute_result"
    }
   ],
   "source": [
    "## A dictionary is made wherein for each cluster keys, the index of rows belonging to it are stored as its values\n",
    "cluster_dict = {i: np.where(kmeans.labels_ == i)[0] for i in range(kmeans.n_clusters)}\n",
    "cluster_dict"
   ]
  },
  {
   "cell_type": "code",
   "execution_count": 17,
   "metadata": {},
   "outputs": [],
   "source": [
    "## A txt outfile file is created and the results are written to it as needed\n",
    "output_file = open(\"output-flair-kmeans.txt\",\"w\") \n",
    "\n",
    "for key,value in cluster_dict.items():\n",
    "    output_file.write('cluster id: ' + str(key) + '\\n')\n",
    "    for i in value:\n",
    "        output_file.write(df['Headlines'].iloc[i] + '\\n')\n",
    "    output_file.write('*' * 100)\n",
    "    output_file.write('\\n')"
   ]
  },
  {
   "cell_type": "code",
   "execution_count": null,
   "metadata": {},
   "outputs": [],
   "source": []
  }
 ],
 "metadata": {
  "kernelspec": {
   "display_name": "Python 3",
   "language": "python",
   "name": "python3"
  },
  "language_info": {
   "codemirror_mode": {
    "name": "ipython",
    "version": 3
   },
   "file_extension": ".py",
   "mimetype": "text/x-python",
   "name": "python",
   "nbconvert_exporter": "python",
   "pygments_lexer": "ipython3",
   "version": "3.6.8"
  }
 },
 "nbformat": 4,
 "nbformat_minor": 2
}
